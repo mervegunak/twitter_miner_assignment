{
 "cells": [
  {
   "cell_type": "code",
   "execution_count": 1,
   "metadata": {},
   "outputs": [],
   "source": [
    "import sqlite3\n",
    "import datetime "
   ]
  },
  {
   "cell_type": "code",
   "execution_count": 2,
   "metadata": {},
   "outputs": [],
   "source": [
    "con = sqlite3.connect('assg4.db')\n",
    "cur = con.cursor()"
   ]
  },
  {
   "cell_type": "code",
   "execution_count": 3,
   "metadata": {},
   "outputs": [
    {
     "name": "stdout",
     "output_type": "stream",
     "text": [
      "(669799580913958912, 'RT @AwkwardComedy: When you come out of the exam and your friend starts telling you the answers they put https://t.co/3i3CHNJhxk', 'Thu Nov 26 08:47:19 +0000 2015', 'en', 997133054)\n",
      "(669799581182525441, \"RT @guardian: Student loans: Osborne's 'disgraceful' overhaul 'betrays a generation' https://t.co/8XQWdDGhVA\", 'Thu Nov 26 08:47:19 +0000 2015', 'en', 3052620675)\n",
      "(669799581035552768, \"RT @bashrimuhaiedin: to remove stain with blood and account's student be like ; put clorox put downy #spm2015\", 'Thu Nov 26 08:47:19 +0000 2015', 'en', 2536066893)\n",
      "(669799582331568128, 'https://t.co/BC8VxA0lmi https://t.co/bAarUKCqAj https://t.co/0qXbmq0yTG h...', 'Thu Nov 26 08:47:19 +0000 2015', 'und', 2929096437)\n",
      "(669799581119475712, \"Watching crimson peak at Ben and Jerry's  open air cinemas at sydney university...weather could be better but https://t.co/BB3ImkqSoO\", 'Thu Nov 26 08:47:19 +0000 2015', 'en', 1425436165)\n",
      "(669799582600032256, 'https://t.co/BHtzZbSLXA https://t.co/bAwNFdlxBa https://t.co/M9eF7BeudX...', 'Thu Nov 26 08:47:19 +0000 2015', 'und', 3296904436)\n",
      "(669799583644590080, 'I remember the days when you used to get a floppy disk attached to your computer magazine. Now you get a computer! https://t.co/4sI1a3wroh', 'Thu Nov 26 08:47:19 +0000 2015', 'en', 377663481)\n",
      "(669799583245930496, 'https://t.co/BbN5QCho1B https://t.co/u6vxHWduHG https://t.co/plxmMtNzV5 http://dig...', 'Thu Nov 26 08:47:19 +0000 2015', 'und', 3296904436)\n",
      "(669799584521019394, 'https://t.co/xcdz6WeqE0 https://t.co/yLgDf9Oc14 https://t.co/BbwWlbeW2h http://yardgr...', 'Thu Nov 26 08:47:19 +0000 2015', 'und', 2929096437)\n",
      "(669799584760070144, 'Science time be like 😂😜👊👌 Okay open-minded daw', 'Thu Nov 26 08:47:19 +0000 2015', 'en', 3188237083)\n"
     ]
    }
   ],
   "source": [
    "for row in cur.execute('SELECT * FROM tweet LIMIT 10'):\n",
    "        print(row)"
   ]
  },
  {
   "cell_type": "code",
   "execution_count": 4,
   "metadata": {},
   "outputs": [],
   "source": [
    "tweets = []\n",
    "for row in cur.execute('SELECT text, created_at FROM tweet'):\n",
    "        tweets.append(row)"
   ]
  },
  {
   "cell_type": "code",
   "execution_count": 5,
   "metadata": {},
   "outputs": [],
   "source": [
    "import string\n",
    "punctuation = list(string.punctuation)\n",
    "stop = punctuation+[ 'a','an','the','rt', 'via','to','of','for','and','or','i','in','at','on','out','with','by','de',' ','is','am','are','my','your','our','us','me','you','it','','the','no','have','has','we','her','his','them','when','who','where','which','how','that','not','this','&amp;','from','new','la','but']"
   ]
  },
  {
   "cell_type": "code",
   "execution_count": 6,
   "metadata": {},
   "outputs": [],
   "source": [
    "freq = {}\n",
    "for item in tweets: \n",
    "    text = item[0].lower().split(\" \")\n",
    "    for eleman in text:\n",
    "        if eleman in stop:\n",
    "            pass\n",
    "        else:\n",
    "            if eleman in freq.keys():\n",
    "                freq[eleman] += 1\n",
    "            else:\n",
    "                freq[eleman] = 1"
   ]
  },
  {
   "cell_type": "code",
   "execution_count": 7,
   "metadata": {},
   "outputs": [
    {
     "name": "stdout",
     "output_type": "stream",
     "text": [
      "('computer', 1592)\n",
      "('student', 1113)\n",
      "('university', 1080)\n",
      "('raspberry', 1000)\n",
      "('science', 814)\n",
      "('$5', 770)\n",
      "('pi', 688)\n",
      "('exam', 571)\n",
      "('just', 544)\n",
      "('intelligence', 495)\n",
      "('solution', 475)\n",
      "('costs', 423)\n",
      "('exam:', 411)\n",
      "('latest', 402)\n",
      "(\"pi's\", 366)\n",
      "('be', 311)\n",
      "('can', 268)\n",
      "('what', 268)\n",
      "('way', 257)\n",
      "('students', 238)\n"
     ]
    }
   ],
   "source": [
    "freq = {k: v for k, v in sorted(freq.items(), key=lambda item: item[1],reverse=True)}\n",
    "final = list(freq.items())[:20]\n",
    "for i in final:\n",
    "    print(i)\n",
    "top_5 = list(freq.keys())[:5]\n",
    "top_10 = list(freq.keys())[:10]"
   ]
  },
  {
   "cell_type": "code",
   "execution_count": 11,
   "metadata": {},
   "outputs": [],
   "source": [
    "freq_time = {}\n",
    "for item in tweets: \n",
    "    text = item[0].lower().split(\" \")\n",
    "    dates = item[1]\n",
    "    dates=datetime.datetime.strptime(dates, \"%a %b %d %H:%M:%S +0000 %Y\")\n",
    "    dates = dates.strftime(\"%Y-%m-%d %H:%M:00\")\n",
    "\n",
    "        \n",
    "    for eleman in text:\n",
    "        if eleman in stop:\n",
    "            pass\n",
    "        else:\n",
    "            if eleman not in freq_time.keys():\n",
    "                freq_time[eleman] = {}\n",
    "                freq_time[eleman][dates] = 1\n",
    "            else:\n",
    "                if dates not in freq_time[eleman].keys():\n",
    "                    freq_time[eleman][dates] = 1\n",
    "                else:\n",
    "                    freq_time[eleman][dates] += 1\n",
    "                                \n",
    "# freq_time"
   ]
  },
  {
   "cell_type": "code",
   "execution_count": 12,
   "metadata": {},
   "outputs": [],
   "source": [
    "co = {}\n",
    "for item in tweets: \n",
    "    text = item[0].lower().split(\" \")\n",
    "    for e1 in text:\n",
    "        if e1 in stop:\n",
    "            pass\n",
    "        else:\n",
    "            for e2 in text:\n",
    "                if e2 in stop:\n",
    "                    pass\n",
    "                elif e1 == e2:\n",
    "                    pass\n",
    "                else:\n",
    "                    if e1 not in co.keys():\n",
    "                        co[e1] = {}\n",
    "                        if e2 not in stop:\n",
    "                            co[e1][e2] = 1\n",
    "                    else:\n",
    "                        if e2 not in co[e1].keys():\n",
    "                            co[e1][e2] = 1\n",
    "                        else:\n",
    "                            co[e1][e2] += 1\n"
   ]
  },
  {
   "cell_type": "code",
   "execution_count": 13,
   "metadata": {},
   "outputs": [
    {
     "name": "stdout",
     "output_type": "stream",
     "text": [
      "exam @awkwardcomedy: 12\n",
      "student @guardian: 4\n",
      "computer remember 68\n",
      "science time 6\n",
      "raspberry @raspberry_pi: 151\n",
      "pi @raspberry_pi: 151\n",
      "$5 @raspberry_pi: 151\n",
      "just @thenextweb: 10\n",
      "university just 19\n",
      "intelligence sentinel 2\n"
     ]
    }
   ],
   "source": [
    "for k,v in co.items():\n",
    "    if k in top_10:\n",
    "        for k1,v1 in v.items():\n",
    "            print(k,k1,v1)\n",
    "            break\n"
   ]
  },
  {
   "cell_type": "code",
   "execution_count": null,
   "metadata": {},
   "outputs": [],
   "source": []
  }
 ],
 "metadata": {
  "kernelspec": {
   "display_name": "Python 3 (ipykernel)",
   "language": "python",
   "name": "python3"
  },
  "language_info": {
   "codemirror_mode": {
    "name": "ipython",
    "version": 3
   },
   "file_extension": ".py",
   "mimetype": "text/x-python",
   "name": "python",
   "nbconvert_exporter": "python",
   "pygments_lexer": "ipython3",
   "version": "3.8.0"
  }
 },
 "nbformat": 4,
 "nbformat_minor": 4
}
